{
 "cells": [
  {
   "cell_type": "markdown",
   "id": "7ebd9387",
   "metadata": {},
   "source": [
    "# Web Scraping US States Data from Wikipedia"
   ]
  },
  {
   "cell_type": "markdown",
   "id": "fa8627b0",
   "metadata": {},
   "source": [
    "The following example extracts data about US states from Wikipedia:\n",
    "https://en.wikipedia.org/wiki/List_of_states_and_territories_of_the_United_States"
   ]
  },
  {
   "cell_type": "code",
   "execution_count": 3,
   "id": "d5d70433",
   "metadata": {},
   "outputs": [],
   "source": [
    "# Importing Libraries\n",
    "import requests\n",
    "from bs4 import BeautifulSoup\n",
    "import pandas as pd\n",
    "import re"
   ]
  },
  {
   "cell_type": "code",
   "execution_count": 4,
   "id": "1cdebbb6",
   "metadata": {},
   "outputs": [],
   "source": [
    "# Fetching the Web Page\n",
    "url = 'https://en.wikipedia.org/wiki/List_of_states_and_territories_of_the_United_States'\n",
    "page = requests.get(url)\n",
    "soup = BeautifulSoup(page.text, 'html.parser')"
   ]
  },
  {
   "cell_type": "markdown",
   "id": "62495ce4",
   "metadata": {},
   "source": [
    "### Inspecting Row Structure\n",
    "By examining each row in the HTML table, the necessary data points are located.\n",
    "\n",
    "### State Name\n",
    "Found within the first `<th>` tag of a row, specifically inside an `<a>` (anchor) element.\n",
    "\n",
    "### Population Size\n",
    "Typically located in the fifth `<td>` (table data) element of a row.\n",
    "\n",
    "### Area Size\n",
    "Usually in the sixth `<td>` element of a row.\n",
    "\n",
    "### Special Case for Capital and Largest City\n",
    "![Special Case](https://i.ibb.co/fkXPsnD/Screenshot-2023-11-24-at-6-35-59-PM.png)\n",
    "In rows where the state's capital is also its largest city, the layout shifts:\n",
    "- The population size moves to the fourth `<td>` element.\n",
    "- The area size is found in the fifth `<td>` element.\n",
    "\n",
    "### Identifying Special Cases\n",
    "These cases are identified by checking if the second `<td>` element has an attribute `colspan=\"2\"`. This attribute alters the column span, indicating a different table layout for these specific states.\n"
   ]
  },
  {
   "cell_type": "code",
   "execution_count": 5,
   "id": "a628187c",
   "metadata": {},
   "outputs": [],
   "source": [
    "# Function to Extract Data\n",
    "def get_states_data():\n",
    "    \"\"\"\n",
    "    Extracts data about US states from the Wikipedia page.\n",
    "    \"\"\"\n",
    "    states, populations, areas = [], [], []\n",
    "    \n",
    "    table = soup.find_all('table')[1]\n",
    "    rows = table.find_all('tr')[2:]\n",
    "    \n",
    "    for row in rows:\n",
    "        # Extracting state name\n",
    "        state = row.th.a.text\n",
    "        states.append(state)\n",
    "        \n",
    "        cells = row.find_all('td')\n",
    "        \n",
    "        # Adjusting for the layout differences in the table\n",
    "        if 'colspan' in cells[1].attrs:\n",
    "            population = cells[3].text\n",
    "            area = cells[4].text\n",
    "        else:\n",
    "            population = cells[4].text\n",
    "            area = cells[5].text\n",
    "            \n",
    "        # Cleaning and converting data\n",
    "        population = int(population.replace(',', ''))\n",
    "        populations.append(population)\n",
    "        \n",
    "        area = int(area.replace(',', ''))\n",
    "        areas.append(area)\n",
    "        \n",
    "    return states, populations, areas"
   ]
  },
  {
   "cell_type": "code",
   "execution_count": 7,
   "id": "f86e2977",
   "metadata": {},
   "outputs": [
    {
     "data": {
      "text/html": [
       "<div>\n",
       "<style scoped>\n",
       "    .dataframe tbody tr th:only-of-type {\n",
       "        vertical-align: middle;\n",
       "    }\n",
       "\n",
       "    .dataframe tbody tr th {\n",
       "        vertical-align: top;\n",
       "    }\n",
       "\n",
       "    .dataframe thead th {\n",
       "        text-align: right;\n",
       "    }\n",
       "</style>\n",
       "<table border=\"1\" class=\"dataframe\">\n",
       "  <thead>\n",
       "    <tr style=\"text-align: right;\">\n",
       "      <th></th>\n",
       "      <th>state</th>\n",
       "      <th>population</th>\n",
       "      <th>area</th>\n",
       "    </tr>\n",
       "  </thead>\n",
       "  <tbody>\n",
       "    <tr>\n",
       "      <th>0</th>\n",
       "      <td>Alabama</td>\n",
       "      <td>5024279</td>\n",
       "      <td>52420</td>\n",
       "    </tr>\n",
       "    <tr>\n",
       "      <th>1</th>\n",
       "      <td>Alaska</td>\n",
       "      <td>733391</td>\n",
       "      <td>665384</td>\n",
       "    </tr>\n",
       "    <tr>\n",
       "      <th>2</th>\n",
       "      <td>Arizona</td>\n",
       "      <td>7151502</td>\n",
       "      <td>113990</td>\n",
       "    </tr>\n",
       "    <tr>\n",
       "      <th>3</th>\n",
       "      <td>Arkansas</td>\n",
       "      <td>3011524</td>\n",
       "      <td>53179</td>\n",
       "    </tr>\n",
       "    <tr>\n",
       "      <th>4</th>\n",
       "      <td>California</td>\n",
       "      <td>39538223</td>\n",
       "      <td>163695</td>\n",
       "    </tr>\n",
       "  </tbody>\n",
       "</table>\n",
       "</div>"
      ],
      "text/plain": [
       "        state  population    area\n",
       "0     Alabama     5024279   52420\n",
       "1      Alaska      733391  665384\n",
       "2     Arizona     7151502  113990\n",
       "3    Arkansas     3011524   53179\n",
       "4  California    39538223  163695"
      ]
     },
     "execution_count": 7,
     "metadata": {},
     "output_type": "execute_result"
    }
   ],
   "source": [
    "# Creating DataFrame and Displaying Data\n",
    "states, populations, areas = get_states_data()\n",
    "states_df = pd.DataFrame({'state': states, 'population': populations, 'area': areas})\n",
    "states_df.head()  # Display data for the first five states"
   ]
  },
  {
   "cell_type": "markdown",
   "id": "4a3a8b3e",
   "metadata": {},
   "source": [
    "### Thanks!"
   ]
  }
 ],
 "metadata": {
  "kernelspec": {
   "display_name": "Python 3 (ipykernel)",
   "language": "python",
   "name": "python3"
  },
  "language_info": {
   "codemirror_mode": {
    "name": "ipython",
    "version": 3
   },
   "file_extension": ".py",
   "mimetype": "text/x-python",
   "name": "python",
   "nbconvert_exporter": "python",
   "pygments_lexer": "ipython3",
   "version": "3.9.13"
  }
 },
 "nbformat": 4,
 "nbformat_minor": 5
}
